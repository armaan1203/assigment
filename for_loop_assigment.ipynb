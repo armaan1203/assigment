{
 "cells": [
  {
   "cell_type": "code",
   "execution_count": 4,
   "id": "e04979b0-7c33-4fe3-9bef-f7b8e8fdf67f",
   "metadata": {},
   "outputs": [
    {
     "name": "stdout",
     "output_type": "stream",
     "text": [
      "1\n",
      "2\n",
      "3\n",
      "4\n",
      "5\n",
      "6\n",
      "7\n",
      "8\n",
      "9\n",
      "10\n"
     ]
    }
   ],
   "source": [
    "for i in range(1,11):\n",
    "    if type(i)==int:\n",
    "        print(i)"
   ]
  },
  {
   "cell_type": "code",
   "execution_count": 10,
   "id": "ea570689-af0b-4f35-8a73-e204e2d86016",
   "metadata": {},
   "outputs": [
    {
     "name": "stdout",
     "output_type": "stream",
     "text": [
      "the sum of numbers in list is :21\n"
     ]
    }
   ],
   "source": [
    "def calculate_sum(numbers):\n",
    "    x=0\n",
    "    for i in numbers:\n",
    "        x+=i\n",
    "    return x\n",
    "\n",
    "l=[1,2,3,4,5,6]\n",
    "result=calculate_sum(l)\n",
    "print(f'the sum of numbers in list is :{result}')"
   ]
  },
  {
   "cell_type": "code",
   "execution_count": 13,
   "id": "61a438ac-bf25-402b-93c7-f12f1c7338a6",
   "metadata": {},
   "outputs": [
    {
     "name": "stdout",
     "output_type": "stream",
     "text": [
      "armaan\n"
     ]
    }
   ],
   "source": [
    "x='naamra'\n",
    "for i in x:\n",
    "    print(x[::-1])\n",
    "    break"
   ]
  },
  {
   "cell_type": "code",
   "execution_count": 22,
   "id": "0ba1bd24-2279-43dd-b472-d958e4db8261",
   "metadata": {},
   "outputs": [
    {
     "name": "stdin",
     "output_type": "stream",
     "text": [
      "enter you number: 5\n"
     ]
    },
    {
     "name": "stdout",
     "output_type": "stream",
     "text": [
      "the factorial of number is : 10\n"
     ]
    }
   ],
   "source": [
    "x1=0\n",
    "y=int(input('enter you number:'))\n",
    "for i in range(y):\n",
    "    x1+=i\n",
    "print('the factorial of number is :',x1)\n",
    "\n",
    "\n",
    "  "
   ]
  },
  {
   "cell_type": "code",
   "execution_count": 28,
   "id": "532df095-d5b4-4200-a0d3-f38be852fc55",
   "metadata": {},
   "outputs": [
    {
     "name": "stdin",
     "output_type": "stream",
     "text": [
      "the the number to get table of: 6\n"
     ]
    },
    {
     "name": "stdout",
     "output_type": "stream",
     "text": [
      "6 x 1 = 6\n",
      "6 x 2 = 12\n",
      "6 x 3 = 18\n",
      "6 x 4 = 24\n",
      "6 x 5 = 30\n",
      "6 x 6 = 36\n",
      "6 x 7 = 42\n",
      "6 x 8 = 48\n",
      "6 x 9 = 54\n",
      "6 x 10 = 60\n"
     ]
    }
   ],
   "source": [
    "def table(number):\n",
    "    for i in range(1,11):\n",
    "        result= number * i\n",
    "        print(f\"{number} x {i} = {result}\")\n",
    "    \n",
    "y1=int(input('the the number to get table of:'))\n",
    "table(y1)    \n"
   ]
  },
  {
   "cell_type": "code",
   "execution_count": 32,
   "id": "58fde5e8-8e0d-48b4-8c91-f0a9b0fa623a",
   "metadata": {},
   "outputs": [
    {
     "name": "stdout",
     "output_type": "stream",
     "text": [
      "count of even number : 10\n",
      "count of odd number : 10\n"
     ]
    }
   ],
   "source": [
    "l3=[1,2,3,4,5,6,7,8,9,10,11,12,13,14,15,16,17,18,19,20]\n",
    "count_even=0\n",
    "count_odd=0\n",
    "for i in l3:\n",
    "    if i%2==0:\n",
    "        count_even+=1\n",
    "    else:\n",
    "        count_odd+=1\n",
    "print('count of even number :',count_even)\n",
    "print('count of odd number :',count_odd)"
   ]
  },
  {
   "cell_type": "code",
   "execution_count": 34,
   "id": "915c2f66-4ad7-4d0e-9bcc-94e410702ea2",
   "metadata": {},
   "outputs": [
    {
     "name": "stdout",
     "output_type": "stream",
     "text": [
      "1\n",
      "4\n",
      "9\n",
      "16\n",
      "25\n"
     ]
    }
   ],
   "source": [
    "for i in range(1,6):\n",
    "    if type(i)==int:\n",
    "        print(i*i)"
   ]
  },
  {
   "cell_type": "code",
   "execution_count": 36,
   "id": "349ef55e-e673-45ab-ab00-56a23fb80b86",
   "metadata": {},
   "outputs": [
    {
     "data": {
      "text/plain": [
       "6"
      ]
     },
     "execution_count": 36,
     "metadata": {},
     "output_type": "execute_result"
    }
   ],
   "source": [
    "x5='armaan'\n",
    "x5.find('n')+1"
   ]
  },
  {
   "cell_type": "code",
   "execution_count": 45,
   "id": "740db93c-9104-402f-80ee-562ba754b755",
   "metadata": {},
   "outputs": [
    {
     "name": "stdout",
     "output_type": "stream",
     "text": [
      "The average of given list is: 4.0\n"
     ]
    }
   ],
   "source": [
    "def calculate_avarage(y8):\n",
    "    x6=len(y8)\n",
    "    x7=0\n",
    "    for i in y8:\n",
    "        x7+=i\n",
    "    return x7 \n",
    "l9=[1,2,3,4,5,6,7]\n",
    "result=calculate_avarage(l9)\n",
    "print('The average of given list is:',result/x6)\n",
    "    "
   ]
  },
  {
   "cell_type": "code",
   "execution_count": 48,
   "id": "e56258e1-e26f-42a5-9dbf-fea8b801f03e",
   "metadata": {},
   "outputs": [
    {
     "name": "stdin",
     "output_type": "stream",
     "text": [
      "Enter the value of 'n' for the Fibonacci sequence:  5\n"
     ]
    },
    {
     "name": "stdout",
     "output_type": "stream",
     "text": [
      "[0, 1, 1, 2, 3]\n"
     ]
    }
   ],
   "source": [
    "def print_fibonacci_sequence(n):\n",
    "    fibonacci_numbers = [0, 1]\n",
    "    for _ in range(2, n):\n",
    "            next_number = fibonacci_numbers[-1] + fibonacci_numbers[-2]\n",
    "            fibonacci_numbers.append(next_number)\n",
    "\n",
    "    print(fibonacci_numbers)\n",
    "user_input = int(input(\"Enter the value of 'n' for the Fibonacci sequence: \"))\n",
    "print_fibonacci_sequence(user_input)"
   ]
  },
  {
   "cell_type": "code",
   "execution_count": 6,
   "id": "cf144625-7e33-41f5-bc16-21ac40e655c1",
   "metadata": {},
   "outputs": [
    {
     "name": "stdout",
     "output_type": "stream",
     "text": [
      "The list contains duplicates.\n"
     ]
    }
   ],
   "source": [
    "def check_duplicates(l2):\n",
    "    x=set()\n",
    "    for i in l2:\n",
    "        if i in x:\n",
    "            return True\n",
    "        x.add(i)\n",
    "    return False\n",
    "        \n",
    "        \n",
    "l3=[1,2,3,2,3,2,3,4,5,4,5,6,4,5,6]\n",
    "if  check_duplicates(l3):\n",
    "    print(\"The list contains duplicates.\")\n",
    "else:\n",
    "    print(\"The list does not contain duplicates.\")"
   ]
  },
  {
   "cell_type": "code",
   "execution_count": 7,
   "id": "14b6d0de-7818-49e0-b717-552b7a2c3cd1",
   "metadata": {},
   "outputs": [
    {
     "name": "stdout",
     "output_type": "stream",
     "text": [
      "1\n",
      "3\n",
      "5\n",
      "7\n",
      "9\n",
      "11\n",
      "13\n",
      "15\n",
      "17\n",
      "19\n"
     ]
    }
   ],
   "source": [
    "for i in range(20):\n",
    "    if i%2!=0:\n",
    "        print(i)"
   ]
  },
  {
   "cell_type": "code",
   "execution_count": 2,
   "id": "0159a6d4-b9ca-4fb3-9220-710c2b4e1274",
   "metadata": {},
   "outputs": [
    {
     "name": "stdout",
     "output_type": "stream",
     "text": [
      "6\n"
     ]
    }
   ],
   "source": [
    "def count_vowels(x2):\n",
    "    count=0\n",
    "    l3='AEIOUaeiou'\n",
    "    for i in x2:\n",
    "        if i in l3:\n",
    "            count+=1\n",
    "    return count\n",
    "string='ArmaEiOu'\n",
    "print(count_vowels(string))"
   ]
  },
  {
   "cell_type": "code",
   "execution_count": 4,
   "id": "74f66033-6983-42e8-bf5e-9093e829ca06",
   "metadata": {},
   "outputs": [
    {
     "name": "stdout",
     "output_type": "stream",
     "text": [
      "The maximum element in 2D list is: 9\n"
     ]
    }
   ],
   "source": [
    "def max_element(x):\n",
    "    y=x[0][0]\n",
    "    \n",
    "    for i in x:\n",
    "        for x2 in i:\n",
    "            if x2>y:\n",
    "                y=x2\n",
    "    return x2\n",
    "matrix=[\n",
    "    [1,2,3],\n",
    "    [4,5,6],\n",
    "    [7,8,9]\n",
    "]\n",
    "\n",
    "element=max_element(matrix)\n",
    "print('The maximum element in 2D list is:',element)"
   ]
  },
  {
   "cell_type": "code",
   "execution_count": 31,
   "id": "3416eb66-0b8e-4402-b457-2dee08721880",
   "metadata": {},
   "outputs": [],
   "source": [
    "def clear_element(l):\n",
    "    for i in l:\n",
    "        while 3 in l:\n",
    "            l.remove(3)\n",
    "    return l\n",
    "l3=[1,2,3,4,52,2,3,4,5,5,34,53,4,4,3,3,3,2,3,3,3,3]"
   ]
  },
  {
   "cell_type": "code",
   "execution_count": 32,
   "id": "57b8ea2b-5a69-4606-bb5e-be82e141c9dc",
   "metadata": {},
   "outputs": [
    {
     "data": {
      "text/plain": [
       "[1, 2, 4, 52, 2, 4, 5, 5, 34, 53, 4, 4, 2]"
      ]
     },
     "execution_count": 32,
     "metadata": {},
     "output_type": "execute_result"
    }
   ],
   "source": [
    "clear_element(l3)"
   ]
  },
  {
   "cell_type": "code",
   "execution_count": 3,
   "id": "fb755a40-ea24-4747-9013-fe32bb182f61",
   "metadata": {},
   "outputs": [],
   "source": [
    "def table():\n",
    "    for i in range(1,11):\n",
    "        for j in range(1,6):\n",
    "            x=j* i\n",
    "            print(j,'*',i,'=',x,end='   ')\n",
    "        print()\n",
    "        "
   ]
  },
  {
   "cell_type": "code",
   "execution_count": 4,
   "id": "5790e1c9-f595-4011-b876-fe261b072bb5",
   "metadata": {},
   "outputs": [
    {
     "name": "stdout",
     "output_type": "stream",
     "text": [
      "1 * 1 = 1   2 * 1 = 2   3 * 1 = 3   4 * 1 = 4   5 * 1 = 5   \n",
      "1 * 2 = 2   2 * 2 = 4   3 * 2 = 6   4 * 2 = 8   5 * 2 = 10   \n",
      "1 * 3 = 3   2 * 3 = 6   3 * 3 = 9   4 * 3 = 12   5 * 3 = 15   \n",
      "1 * 4 = 4   2 * 4 = 8   3 * 4 = 12   4 * 4 = 16   5 * 4 = 20   \n",
      "1 * 5 = 5   2 * 5 = 10   3 * 5 = 15   4 * 5 = 20   5 * 5 = 25   \n",
      "1 * 6 = 6   2 * 6 = 12   3 * 6 = 18   4 * 6 = 24   5 * 6 = 30   \n",
      "1 * 7 = 7   2 * 7 = 14   3 * 7 = 21   4 * 7 = 28   5 * 7 = 35   \n",
      "1 * 8 = 8   2 * 8 = 16   3 * 8 = 24   4 * 8 = 32   5 * 8 = 40   \n",
      "1 * 9 = 9   2 * 9 = 18   3 * 9 = 27   4 * 9 = 36   5 * 9 = 45   \n",
      "1 * 10 = 10   2 * 10 = 20   3 * 10 = 30   4 * 10 = 40   5 * 10 = 50   \n"
     ]
    }
   ],
   "source": [
    "table()"
   ]
  },
  {
   "cell_type": "code",
   "execution_count": 53,
   "id": "0a613b95-5485-4147-b508-702be4d06c8e",
   "metadata": {},
   "outputs": [
    {
     "name": "stdout",
     "output_type": "stream",
     "text": [
      "[37.80800000000001, 93.40800000000002, 149.008, 204.608, 65.608, 121.20800000000001, 176.80800000000002, 232.40800000000002]\n"
     ]
    }
   ],
   "source": [
    "def farhenite_celsius(l):\n",
    "    l2=[]\n",
    "    for i in l:\n",
    "        if i in l:\n",
    "            l2.append(0.556*(i-32))\n",
    "    return l2\n",
    "farh=[100,200,300,400,150,250,350,450]\n",
    "print(farhenite_celsius(farh))\n",
    "    \n",
    "            "
   ]
  },
  {
   "cell_type": "code",
   "execution_count": 71,
   "id": "c07453cd-2398-454f-8489-1b8a63119000",
   "metadata": {},
   "outputs": [
    {
     "name": "stdout",
     "output_type": "stream",
     "text": [
      "comman elements: [2, 3, 4, 5, 6, 7]\n"
     ]
    }
   ],
   "source": [
    "def comman_element(x,y):\n",
    "    l3=[]\n",
    "    for i in x:\n",
    "        if i in y:\n",
    "            l3.append(i)\n",
    "    return l3\n",
    "l=[1,2,3,4,5,6,7]\n",
    "l1=[2,3,4,5,6,7,8,9,10]\n",
    "print( 'comman elements:' ,comman_element(l,l1))"
   ]
  },
  {
   "cell_type": "code",
   "execution_count": 76,
   "id": "3d3e0d63-a0d8-4d6f-9a74-05840d0357e4",
   "metadata": {},
   "outputs": [],
   "source": [
    "def rightangle_pattern():\n",
    "    for i in range(1,10):\n",
    "        print('*'*i)\n",
    "    "
   ]
  },
  {
   "cell_type": "code",
   "execution_count": 77,
   "id": "d90530d9-3e2c-45df-a91c-cf13d26a2eea",
   "metadata": {},
   "outputs": [
    {
     "name": "stdout",
     "output_type": "stream",
     "text": [
      "*\n",
      "**\n",
      "***\n",
      "****\n",
      "*****\n",
      "******\n",
      "*******\n",
      "********\n",
      "*********\n"
     ]
    }
   ],
   "source": [
    "rightangle_pattern()"
   ]
  },
  {
   "cell_type": "code",
   "execution_count": 79,
   "id": "a7a14ec7-b874-47bc-b843-450630d122aa",
   "metadata": {},
   "outputs": [
    {
     "name": "stdout",
     "output_type": "stream",
     "text": [
      "5\n"
     ]
    }
   ],
   "source": [
    "def find_GCD(x,y):\n",
    "    x=min(x,y)\n",
    "    for i in range(1,x+1):\n",
    "        if (x%i==0) and (y%i==0):\n",
    "            gcd= i\n",
    "    return gcd\n",
    "print(find_GCD(15,25))"
   ]
  },
  {
   "cell_type": "code",
   "execution_count": 6,
   "id": "79dfb2d7-41d0-4c79-9e32-fb9ad48868af",
   "metadata": {},
   "outputs": [
    {
     "name": "stdout",
     "output_type": "stream",
     "text": [
      "[3, 4, 5, 5, 9]\n"
     ]
    }
   ],
   "source": [
    "def sum_digits(l):\n",
    "    l1=[]\n",
    "    for i in l:\n",
    "        x=str(i)\n",
    "        y=sum(int(j) for j in x)\n",
    "        l1.append(y)\n",
    "    return l1\n",
    "l2=[12,13,14,23,45]\n",
    "print(sum_digits(l2))"
   ]
  },
  {
   "cell_type": "code",
   "execution_count": 22,
   "id": "a5c272b8-0c23-4fa1-a646-198b537dc7c9",
   "metadata": {},
   "outputs": [
    {
     "name": "stdin",
     "output_type": "stream",
     "text": [
      "enter a number: 10\n"
     ]
    },
    {
     "name": "stdout",
     "output_type": "stream",
     "text": [
      "prime factors of 10 are: [2, 5]\n"
     ]
    }
   ],
   "source": [
    "def prime_factor(n):\n",
    "    factors = []\n",
    "    divisor = 2\n",
    "    while n > 1:\n",
    "        for i in range(divisor,n + 1):\n",
    "            if n % i == 0:\n",
    "                factors.append(i)\n",
    "                n //= i\n",
    "                break\n",
    "    return factors\n",
    "number = int(input('enter a number:'))\n",
    "print('prime factors of',number,'are:',prime_factor(number))"
   ]
  },
  {
   "cell_type": "code",
   "execution_count": 29,
   "id": "517303c9-0748-4ed7-a9cc-dd95070c8517",
   "metadata": {},
   "outputs": [
    {
     "name": "stdout",
     "output_type": "stream",
     "text": [
      "[1, 2, 3, 4, 5, 6, 7, 8]\n"
     ]
    }
   ],
   "source": [
    "def unique_elements(l):\n",
    "    l2=[]\n",
    "    for i in l:\n",
    "        if l2.count(i)==0:\n",
    "            l2.append(i)\n",
    "    return l2\n",
    "l=[1,2,3,4,2,3,4,3,4,5,6,7,1,8,7,8,6]\n",
    "print(unique_elements(l))"
   ]
  },
  {
   "cell_type": "code",
   "execution_count": 41,
   "id": "4c3bc9fe-c398-49ee-82bc-5db8c778c98c",
   "metadata": {},
   "outputs": [
    {
     "name": "stdin",
     "output_type": "stream",
     "text": [
      "enter the number: 100\n"
     ]
    },
    {
     "name": "stdout",
     "output_type": "stream",
     "text": [
      "palindromic number upto 100 are [1, 2, 3, 4, 5, 6, 7, 8, 9, 11, 22, 33, 44, 55, 66, 77, 88, 99]\n"
     ]
    }
   ],
   "source": [
    "def is_palindrom(n):\n",
    "    n_str=str(n)\n",
    "    return n_str==n_str[::-1]  \n",
    "\n",
    "def palindrom_list(n):\n",
    "    l=[]\n",
    "    for i in range(1,n+1):\n",
    "        if is_palindrom(i):\n",
    "             l.append(i)\n",
    "    return l\n",
    "number=int(input('enter the number:'))\n",
    "print('palindromic number upto',number,'are',palindrom_list(number))\n",
    "        \n",
    "        "
   ]
  },
  {
   "cell_type": "code",
   "execution_count": 46,
   "id": "a35037c7-e708-4543-a0a0-56bbaa598a93",
   "metadata": {},
   "outputs": [
    {
     "name": "stdout",
     "output_type": "stream",
     "text": [
      "[1, 2, 1, 2, 3, 4, 23, 4, 5, 6]\n"
     ]
    }
   ],
   "source": [
    "def flatten_list(n):\n",
    "    l=[]\n",
    "    for i in n:\n",
    "        for j in i:\n",
    "            l.append(j)\n",
    "    return l\n",
    "l1=[[1,2],[1,2,3,4],[23,4,5,6]]\n",
    "print(flatten_list(l1))\n",
    "            \n",
    "            "
   ]
  },
  {
   "cell_type": "code",
   "execution_count": 54,
   "id": "83b7cdcb-4429-4069-b033-9ebfb8208e86",
   "metadata": {},
   "outputs": [],
   "source": [
    "def sum_even_odd(n):\n",
    "    even_sum=[]\n",
    "    odd_sum=[]\n",
    "    for i in n:\n",
    "        if i%2==0:\n",
    "            even_sum.append(i)\n",
    "            return sum(eve)\n",
    "        else:\n",
    "            odd_sum.append(i)\n",
    "    return sum(odd_sum)"
   ]
  },
  {
   "cell_type": "code",
   "execution_count": 55,
   "id": "1018b7c1-ff5d-47a0-b260-c06fd76bb91a",
   "metadata": {},
   "outputs": [
    {
     "data": {
      "text/plain": [
       "25"
      ]
     },
     "execution_count": 55,
     "metadata": {},
     "output_type": "execute_result"
    }
   ],
   "source": [
    "sum_even_odd([1,2,3,4,5,6,7,8,9])"
   ]
  },
  {
   "cell_type": "code",
   "execution_count": 3,
   "id": "ff9aa8fd-dc0a-49af-a5fc-6855b292beb4",
   "metadata": {},
   "outputs": [],
   "source": [
    "def square_odd_numbers(n):\n",
    "    l1=[]\n",
    "    for i in range(n):\n",
    "        if i%2!=0:\n",
    "            l1.append(i**2)\n",
    "    return l1"
   ]
  },
  {
   "cell_type": "code",
   "execution_count": 5,
   "id": "2efde256-a32f-415c-90cd-c4e081fe19a2",
   "metadata": {},
   "outputs": [
    {
     "data": {
      "text/plain": [
       "[1, 9, 25, 49, 81]"
      ]
     },
     "execution_count": 5,
     "metadata": {},
     "output_type": "execute_result"
    }
   ],
   "source": [
    "square_odd_numbers(10)"
   ]
  },
  {
   "cell_type": "code",
   "execution_count": 10,
   "id": "824f63a9-a77a-4f07-ae50-3322ae16c85e",
   "metadata": {},
   "outputs": [
    {
     "name": "stdout",
     "output_type": "stream",
     "text": [
      "{'name': 'armaan', 'address': 'thane', 'phone': '7718022069'}\n"
     ]
    }
   ],
   "source": [
    "keys=['name','address','phone']\n",
    "values=['armaan','thane','7718022069']\n",
    "dict_={}\n",
    "for i in range(len(keys)):\n",
    "    dict_[keys[i]]=values[i]\n",
    "print(dict_)"
   ]
  },
  {
   "cell_type": "code",
   "execution_count": 13,
   "id": "91cd514f-cfee-4d54-af3d-ba33bc1241a9",
   "metadata": {},
   "outputs": [],
   "source": [
    "def extract_vowels(n):\n",
    "    vowels=['A','E','I','O','U','a','e','i','o','u']\n",
    "    extracted_vowels=[]\n",
    "    for i in n:\n",
    "        if i in vowels:\n",
    "            extracted_vowels.append(i)\n",
    "    return extracted_vowels\n",
    "    \n",
    "    "
   ]
  },
  {
   "cell_type": "code",
   "execution_count": 15,
   "id": "bf1448cc-6330-43c0-9d7d-1dbf6d3d9801",
   "metadata": {},
   "outputs": [
    {
     "data": {
      "text/plain": [
       "['a', 'e', 'i', 'O', 'u', 'U', 'a', 'i', 'o']"
      ]
     },
     "execution_count": 15,
     "metadata": {},
     "output_type": "execute_result"
    }
   ],
   "source": [
    "extract_vowels('areiOuUnaioqp')"
   ]
  },
  {
   "cell_type": "code",
   "execution_count": 17,
   "id": "7c45af9a-9ac0-4f64-9b55-fad0ab4c3526",
   "metadata": {},
   "outputs": [
    {
     "name": "stdout",
     "output_type": "stream",
     "text": [
      "['123', '456', '789']\n"
     ]
    }
   ],
   "source": [
    "strings=['abc123','def456','ghi789']\n",
    "x=[''.join(filter(lambda char: char.isdigit(),string))for string in strings]\n",
    "print(x)"
   ]
  },
  {
   "cell_type": "code",
   "execution_count": 1,
   "id": "267f95be-b679-4aa9-b730-8d4a6d409a39",
   "metadata": {},
   "outputs": [],
   "source": [
    "def sieve_of_eratosthenes(n):\n",
    "    primes = []\n",
    "    sieve = [True] * (n + 1)\n",
    "    sieve[0] = sieve[1] = False\n",
    "\n",
    "    for i in range(2, int(n**0.5) + 1):\n",
    "        if sieve[i]:\n",
    "            primes.append(i)\n",
    "            for j in range(i*i, n + 1, i):\n",
    "                sieve[j] = False\n",
    "\n",
    "    for i in range(int(n**0.5) + 1, n + 1):\n",
    "        if sieve[i]:\n",
    "            primes.append(i)\n",
    "\n",
    "    return primes\n"
   ]
  },
  {
   "cell_type": "code",
   "execution_count": 4,
   "id": "e06a99e1-9e39-4404-bf6e-ef031e951df5",
   "metadata": {},
   "outputs": [
    {
     "data": {
      "text/plain": [
       "[2, 3, 5, 7]"
      ]
     },
     "execution_count": 4,
     "metadata": {},
     "output_type": "execute_result"
    }
   ],
   "source": [
    "sieve_of_eratosthenes(10)"
   ]
  },
  {
   "cell_type": "code",
   "execution_count": 4,
   "id": "417674ad-1b1a-4cef-9658-1e478acf94c7",
   "metadata": {},
   "outputs": [
    {
     "name": "stdin",
     "output_type": "stream",
     "text": [
      "enter the limit: 50\n"
     ]
    },
    {
     "name": "stdout",
     "output_type": "stream",
     "text": [
      "pythagorean triplets up to limit 50 are:\n",
      "[(3, 4, 5), (5, 12, 13), (6, 8, 10), (7, 24, 25), (8, 15, 17), (9, 12, 15), (9, 40, 41), (10, 24, 26), (12, 16, 20), (12, 35, 37), (15, 20, 25), (15, 36, 39), (16, 30, 34), (18, 24, 30), (20, 21, 29), (21, 28, 35), (24, 32, 40), (27, 36, 45)]\n",
      "None\n"
     ]
    }
   ],
   "source": [
    "def pythaorean_triplets(z):\n",
    "    x=int(input('enter the limit:'))\n",
    "    y=[(a,b,c) for a in range(1,x) for b in range(a,x) for c in range(b,x) if a**2 + b**2==c**2]\n",
    "    print('pythagorean triplets up to limit',x,'are:')\n",
    "    print(y)\n",
    "    \n",
    "print(pythaorean_triplets(x))"
   ]
  },
  {
   "cell_type": "code",
   "execution_count": 5,
   "id": "7a8e303e-4c71-49b7-b769-351c44af4aef",
   "metadata": {},
   "outputs": [
    {
     "name": "stdout",
     "output_type": "stream",
     "text": [
      "The all combination of list are: [(1, 'a'), (1, 'b'), (1, 'c'), (1, 'd'), (1, 'e'), (2, 'a'), (2, 'b'), (2, 'c'), (2, 'd'), (2, 'e'), (3, 'a'), (3, 'b'), (3, 'c'), (3, 'd'), (3, 'e'), (4, 'a'), (4, 'b'), (4, 'c'), (4, 'd'), (4, 'e'), (5, 'a'), (5, 'b'), (5, 'c'), (5, 'd'), (5, 'e')]\n",
      "None\n"
     ]
    }
   ],
   "source": [
    "def list_combination():\n",
    "    list1=[1,2,3,4,5]\n",
    "    list2=['a','b','c','d','e']\n",
    "    combination=[(x,y)for x in list1 for y in list2]\n",
    "    print('The all combination of list are:',combination)\n",
    "print(list_combination())"
   ]
  },
  {
   "cell_type": "code",
   "execution_count": 10,
   "id": "95f1c0fb-2f91-4d88-8217-ce5b5392508f",
   "metadata": {},
   "outputs": [
    {
     "name": "stdout",
     "output_type": "stream",
     "text": [
      "mean: 19.25\n",
      "median: 20.0\n",
      "mode: 21\n"
     ]
    }
   ],
   "source": [
    "numbers=[12,13,15,16,17,19,21,21,21,23,26,27]\n",
    "mean=sum(numbers)/len(numbers)\n",
    "sorted_numbers=sorted(numbers)\n",
    "n=len(sorted_numbers)\n",
    "median=(sorted_numbers[n//2]+sorted_numbers[(n-1)//2])/2 if n%2==0 else sorted_numbers[n//2]\n",
    "mode=max([(number,numbers.count(number))for number in set(numbers)],key = lambda x:x[1])[0]\n",
    "print('mean:',mean)\n",
    "print('median:',median)\n",
    "print('mode:',mode)"
   ]
  },
  {
   "cell_type": "code",
   "execution_count": 8,
   "id": "b77572e8-dfcc-4a65-a2c2-763b858e8ba2",
   "metadata": {},
   "outputs": [
    {
     "name": "stdin",
     "output_type": "stream",
     "text": [
      "Enter the number of rows for Pascal's triangle:  10\n"
     ]
    },
    {
     "name": "stdout",
     "output_type": "stream",
     "text": [
      "              1               \n",
      "             1 1              \n",
      "            1 2 1             \n",
      "           1 3 3 1            \n",
      "          1 4 6 4 1           \n",
      "        1 5 10 10 5 1         \n",
      "       1 6 15 20 15 6 1       \n",
      "     1 7 21 35 35 21 7 1      \n",
      "    1 8 28 56 70 56 28 8 1    \n",
      " 1 9 36 84 126 126 84 36 9 1  \n"
     ]
    }
   ],
   "source": [
    "def generate_pascal_traingle(n):\n",
    "    x=[]\n",
    "    for i in range(n):\n",
    "        row=[1]*(i+1)\n",
    "        for j in range(1,i):\n",
    "            row[j]=x[i-1][j-1]+x[i-1][j]\n",
    "        x.append(row)\n",
    "    return x\n",
    "def print_traingle(x):\n",
    "    for row in x:\n",
    "        print(\" \".join(map(str,row)).center(len(x[-1])*3))\n",
    "\n",
    "        \n",
    "n = int(input(\"Enter the number of rows for Pascal's triangle: \"))\n",
    "\n",
    "print_pascals_triangle(pascals_triangle)\n",
    "              \n",
    "\n",
    "            "
   ]
  },
  {
   "cell_type": "code",
   "execution_count": 19,
   "id": "85315206-2d27-487f-8026-88f3a9583372",
   "metadata": {},
   "outputs": [
    {
     "name": "stdout",
     "output_type": "stream",
     "text": [
      "The sum of digits of 1 factorial is: 5\n",
      "The sum of digits of 2 factorial is: 1\n",
      "The sum of digits of 3 factorial is: 3\n",
      "The sum of digits of 4 factorial is: 3\n",
      "The sum of digits of 5 factorial is: 6\n"
     ]
    }
   ],
   "source": [
    "def sum_factorial(n):\n",
    "        return i if n==0 else n*sum_factorial(n-1)\n",
    "sum_of_digits=[sum(int(i)for i in str(sum_factorial(i)))for i in range(1,6)]\n",
    "\n",
    "for i,sum_of_digits in enumerate(sum_of_digits,start=1):\n",
    "     print(f\"The sum of digits of {i} factorial is: {sum_of_digits}\")"
   ]
  },
  {
   "cell_type": "code",
   "execution_count": 20,
   "id": "fc7ddc4a-e513-41b7-b902-0a48b415c715",
   "metadata": {},
   "outputs": [
    {
     "name": "stdout",
     "output_type": "stream",
     "text": [
      "The longest word in sentece is: tejbahadur\n"
     ]
    }
   ],
   "source": [
    "def longest_word(n):\n",
    "    x=n.split()\n",
    "    longest=[len(i) for i in x]\n",
    "    longest_length=longest.index(max(longest))\n",
    "    return x[longest_length]\n",
    "sentence='my name is armaan tejbahadur yadav'\n",
    "print('The longest word in sentece is:',longest_word(sentence))"
   ]
  },
  {
   "cell_type": "code",
   "execution_count": 25,
   "id": "32e1853a-110e-4b21-93dd-e5dc9cae06eb",
   "metadata": {},
   "outputs": [
    {
     "ename": "NameError",
     "evalue": "name 'Y' is not defined",
     "output_type": "error",
     "traceback": [
      "\u001b[0;31m---------------------------------------------------------------------------\u001b[0m",
      "\u001b[0;31mNameError\u001b[0m                                 Traceback (most recent call last)",
      "Cell \u001b[0;32mIn[25], line 7\u001b[0m\n\u001b[1;32m      3\u001b[0m     \u001b[38;5;28;01mreturn\u001b[39;00m \u001b[38;5;28msum\u001b[39m(\u001b[38;5;241m1\u001b[39m \u001b[38;5;28;01mfor\u001b[39;00m char \u001b[38;5;129;01min\u001b[39;00m string \u001b[38;5;28;01mif\u001b[39;00m char \u001b[38;5;129;01min\u001b[39;00m Y)\n\u001b[1;32m      4\u001b[0m strings \u001b[38;5;241m=\u001b[39m [\u001b[38;5;124m\"\u001b[39m\u001b[38;5;124mhello\u001b[39m\u001b[38;5;124m\"\u001b[39m, \u001b[38;5;124m\"\u001b[39m\u001b[38;5;124mworld\u001b[39m\u001b[38;5;124m\"\u001b[39m, \u001b[38;5;124m\"\u001b[39m\u001b[38;5;124mpython\u001b[39m\u001b[38;5;124m\"\u001b[39m, \u001b[38;5;124m\"\u001b[39m\u001b[38;5;124mprogramming\u001b[39m\u001b[38;5;124m\"\u001b[39m, \u001b[38;5;124m\"\u001b[39m\u001b[38;5;124mai\u001b[39m\u001b[38;5;124m\"\u001b[39m, \u001b[38;5;124m\"\u001b[39m\u001b[38;5;124mopenai\u001b[39m\u001b[38;5;124m\"\u001b[39m]\n\u001b[0;32m----> 7\u001b[0m filtered_strings \u001b[38;5;241m=\u001b[39m [string \u001b[38;5;28;01mfor\u001b[39;00m string \u001b[38;5;129;01min\u001b[39;00m strings \u001b[38;5;28;01mif\u001b[39;00m filter_words(string) \u001b[38;5;241m>\u001b[39m \u001b[38;5;241m3\u001b[39m]\n\u001b[1;32m     10\u001b[0m \u001b[38;5;28mprint\u001b[39m(\u001b[38;5;124m\"\u001b[39m\u001b[38;5;124mStrings with more than three vowels:\u001b[39m\u001b[38;5;124m\"\u001b[39m, filtered_strings)\n",
      "Cell \u001b[0;32mIn[25], line 7\u001b[0m, in \u001b[0;36m<listcomp>\u001b[0;34m(.0)\u001b[0m\n\u001b[1;32m      3\u001b[0m     \u001b[38;5;28;01mreturn\u001b[39;00m \u001b[38;5;28msum\u001b[39m(\u001b[38;5;241m1\u001b[39m \u001b[38;5;28;01mfor\u001b[39;00m char \u001b[38;5;129;01min\u001b[39;00m string \u001b[38;5;28;01mif\u001b[39;00m char \u001b[38;5;129;01min\u001b[39;00m Y)\n\u001b[1;32m      4\u001b[0m strings \u001b[38;5;241m=\u001b[39m [\u001b[38;5;124m\"\u001b[39m\u001b[38;5;124mhello\u001b[39m\u001b[38;5;124m\"\u001b[39m, \u001b[38;5;124m\"\u001b[39m\u001b[38;5;124mworld\u001b[39m\u001b[38;5;124m\"\u001b[39m, \u001b[38;5;124m\"\u001b[39m\u001b[38;5;124mpython\u001b[39m\u001b[38;5;124m\"\u001b[39m, \u001b[38;5;124m\"\u001b[39m\u001b[38;5;124mprogramming\u001b[39m\u001b[38;5;124m\"\u001b[39m, \u001b[38;5;124m\"\u001b[39m\u001b[38;5;124mai\u001b[39m\u001b[38;5;124m\"\u001b[39m, \u001b[38;5;124m\"\u001b[39m\u001b[38;5;124mopenai\u001b[39m\u001b[38;5;124m\"\u001b[39m]\n\u001b[0;32m----> 7\u001b[0m filtered_strings \u001b[38;5;241m=\u001b[39m [string \u001b[38;5;28;01mfor\u001b[39;00m string \u001b[38;5;129;01min\u001b[39;00m strings \u001b[38;5;28;01mif\u001b[39;00m \u001b[43mfilter_words\u001b[49m\u001b[43m(\u001b[49m\u001b[43mstring\u001b[49m\u001b[43m)\u001b[49m \u001b[38;5;241m>\u001b[39m \u001b[38;5;241m3\u001b[39m]\n\u001b[1;32m     10\u001b[0m \u001b[38;5;28mprint\u001b[39m(\u001b[38;5;124m\"\u001b[39m\u001b[38;5;124mStrings with more than three vowels:\u001b[39m\u001b[38;5;124m\"\u001b[39m, filtered_strings)\n",
      "Cell \u001b[0;32mIn[25], line 3\u001b[0m, in \u001b[0;36mfilter_words\u001b[0;34m(string)\u001b[0m\n\u001b[1;32m      1\u001b[0m \u001b[38;5;28;01mdef\u001b[39;00m \u001b[38;5;21mfilter_words\u001b[39m(string):\n\u001b[1;32m      2\u001b[0m     y\u001b[38;5;241m=\u001b[39m\u001b[38;5;124m'\u001b[39m\u001b[38;5;124maeiouAEIOU\u001b[39m\u001b[38;5;124m'\u001b[39m\n\u001b[0;32m----> 3\u001b[0m     \u001b[38;5;28;01mreturn\u001b[39;00m \u001b[38;5;28;43msum\u001b[39;49m\u001b[43m(\u001b[49m\u001b[38;5;241;43m1\u001b[39;49m\u001b[43m \u001b[49m\u001b[38;5;28;43;01mfor\u001b[39;49;00m\u001b[43m \u001b[49m\u001b[43mchar\u001b[49m\u001b[43m \u001b[49m\u001b[38;5;129;43;01min\u001b[39;49;00m\u001b[43m \u001b[49m\u001b[43mstring\u001b[49m\u001b[43m \u001b[49m\u001b[38;5;28;43;01mif\u001b[39;49;00m\u001b[43m \u001b[49m\u001b[43mchar\u001b[49m\u001b[43m \u001b[49m\u001b[38;5;129;43;01min\u001b[39;49;00m\u001b[43m \u001b[49m\u001b[43mY\u001b[49m\u001b[43m)\u001b[49m\n",
      "Cell \u001b[0;32mIn[25], line 3\u001b[0m, in \u001b[0;36m<genexpr>\u001b[0;34m(.0)\u001b[0m\n\u001b[1;32m      1\u001b[0m \u001b[38;5;28;01mdef\u001b[39;00m \u001b[38;5;21mfilter_words\u001b[39m(string):\n\u001b[1;32m      2\u001b[0m     y\u001b[38;5;241m=\u001b[39m\u001b[38;5;124m'\u001b[39m\u001b[38;5;124maeiouAEIOU\u001b[39m\u001b[38;5;124m'\u001b[39m\n\u001b[0;32m----> 3\u001b[0m     \u001b[38;5;28;01mreturn\u001b[39;00m \u001b[38;5;28msum\u001b[39m(\u001b[38;5;241m1\u001b[39m \u001b[38;5;28;01mfor\u001b[39;00m char \u001b[38;5;129;01min\u001b[39;00m string \u001b[38;5;28;01mif\u001b[39;00m char \u001b[38;5;129;01min\u001b[39;00m \u001b[43mY\u001b[49m)\n",
      "\u001b[0;31mNameError\u001b[0m: name 'Y' is not defined"
     ]
    }
   ],
   "source": [
    "def filter_words(string):\n",
    "    y='aeiouAEIOU'\n",
    "    return sum(1 for char in string if char in y)\n",
    "strings = [\"hello\", \"world\", \"python\", \"programming\", \"ai\", \"openai\"]\n",
    "\n",
    "\n",
    "filtered_strings = [string for string in strings if filter_words(string) > 3]\n",
    "\n",
    "\n",
    "print(\"Strings with more than three vowels:\", filtered_strings)\n",
    "    "
   ]
  },
  {
   "cell_type": "code",
   "execution_count": null,
   "id": "d66d02a6-5157-41b4-b06d-5fb8bdba5fb3",
   "metadata": {},
   "outputs": [],
   "source": []
  }
 ],
 "metadata": {
  "kernelspec": {
   "display_name": "Python 3 (ipykernel)",
   "language": "python",
   "name": "python3"
  },
  "language_info": {
   "codemirror_mode": {
    "name": "ipython",
    "version": 3
   },
   "file_extension": ".py",
   "mimetype": "text/x-python",
   "name": "python",
   "nbconvert_exporter": "python",
   "pygments_lexer": "ipython3",
   "version": "3.10.8"
  }
 },
 "nbformat": 4,
 "nbformat_minor": 5
}
